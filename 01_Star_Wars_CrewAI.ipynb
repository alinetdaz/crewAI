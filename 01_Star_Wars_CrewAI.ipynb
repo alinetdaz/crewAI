{
  "nbformat": 4,
  "nbformat_minor": 0,
  "metadata": {
    "colab": {
      "provenance": [],
      "include_colab_link": true
    },
    "kernelspec": {
      "name": "python3",
      "display_name": "Python 3"
    },
    "language_info": {
      "name": "python"
    }
  },
  "cells": [
    {
      "cell_type": "markdown",
      "metadata": {
        "id": "view-in-github",
        "colab_type": "text"
      },
      "source": [
        "<a href=\"https://colab.research.google.com/github/alinetdaz/crewAI/blob/main/01_Star_Wars_CrewAI.ipynb\" target=\"_parent\"><img src=\"https://colab.research.google.com/assets/colab-badge.svg\" alt=\"Open In Colab\"/></a>"
      ]
    },
    {
      "cell_type": "markdown",
      "source": [
        "<img src=\"https://raw.githubusercontent.com/sandeco/crewai/main/images/1.png\" width=\"80%\"\n",
        "/>"
      ],
      "metadata": {
        "id": "TD4bp75PTnCB"
      }
    },
    {
      "cell_type": "code",
      "execution_count": null,
      "metadata": {
        "id": "JwXrfvxJzpec",
        "colab": {
          "base_uri": "https://localhost:8080/"
        },
        "outputId": "02bd1a77-82fd-46d7-8059-fdfdb7ca8474"
      },
      "outputs": [
        {
          "output_type": "stream",
          "name": "stdout",
          "text": [
            "\u001b[2K     \u001b[90m━━━━━━━━━━━━━━━━━━━━━━━━━━━━━━━━━━━━━━━━\u001b[0m \u001b[32m40.9/40.9 kB\u001b[0m \u001b[31m582.1 kB/s\u001b[0m eta \u001b[36m0:00:00\u001b[0m\n",
            "\u001b[2K     \u001b[90m━━━━━━━━━━━━━━━━━━━━━━━━━━━━━━━━━━━━━━━━\u001b[0m \u001b[32m67.3/67.3 kB\u001b[0m \u001b[31m2.6 MB/s\u001b[0m eta \u001b[36m0:00:00\u001b[0m\n",
            "\u001b[?25h  Installing build dependencies ... \u001b[?25l\u001b[?25hdone\n",
            "  Getting requirements to build wheel ... \u001b[?25l\u001b[?25hdone\n",
            "  Preparing metadata (pyproject.toml) ... \u001b[?25l\u001b[?25hdone\n",
            "\u001b[2K     \u001b[90m━━━━━━━━━━━━━━━━━━━━━━━━━━━━━━━━━━━━━━━━\u001b[0m \u001b[32m50.4/50.4 kB\u001b[0m \u001b[31m3.1 MB/s\u001b[0m eta \u001b[36m0:00:00\u001b[0m\n",
            "\u001b[?25h"
          ]
        }
      ],
      "source": [
        "!pip install --q crewai\n",
        "!pip install --q 'crewai[tools]'"
      ]
    },
    {
      "cell_type": "markdown",
      "source": [
        "<img src=\"https://raw.githubusercontent.com/sandeco/crewai/main/images/2.png\" width=\"80%\"\n",
        "/>"
      ],
      "metadata": {
        "id": "J998GxzgdiXk"
      }
    },
    {
      "cell_type": "code",
      "source": [
        "from crewai_tools import tool\n",
        "from crewai import Agent, Task, Crew, Process\n",
        "from dotenv import load_dotenv\n",
        "from langchain_openai import ChatOpenAI"
      ],
      "metadata": {
        "id": "2TZigZn7z94s"
      },
      "execution_count": null,
      "outputs": []
    },
    {
      "cell_type": "code",
      "source": [
        "\n",
        "import os\n",
        "os.environ[\"OPENAI_API_KEY\"] = \"sua_chave_openai\"\n",
        "\n",
        "\n",
        "gpt4o = ChatOpenAI(model_name='gpt-4o')\n"
      ],
      "metadata": {
        "id": "ighxE-l421oo"
      },
      "execution_count": null,
      "outputs": []
    },
    {
      "cell_type": "markdown",
      "source": [
        "<img src=\"https://raw.githubusercontent.com/sandeco/crewai/main/images/4.png\" width=\"80%\"\n",
        "/>"
      ],
      "metadata": {
        "id": "lJKRDSSBeSHw"
      }
    },
    {
      "cell_type": "code",
      "source": [
        "@tool(\"x_wing\")\n",
        "def x_wing():\n",
        "    \"\"\"\n",
        "    Simulação sas funcionalidades de uma X-Wing para a missão.\n",
        "    Retorna uma string que indica que a X-Wing está pronta\n",
        "    para o ataque final com sistemas de mira ativados.\n",
        "    \"\"\"\n",
        "    return f\"\"\"X-Wing pronto para o ataque final,\n",
        "    sistemas de mira ativados. Atacando!\n",
        "    Estrala da Morte Destruida com sucesso!\"\"\""
      ],
      "metadata": {
        "id": "hk54PBJ13KNH"
      },
      "execution_count": null,
      "outputs": []
    },
    {
      "cell_type": "markdown",
      "source": [
        "<img src=\"https://raw.githubusercontent.com/sandeco/crewai/main/images/5.png\" width=\"80%\"\n",
        "/>"
      ],
      "metadata": {
        "id": "CMQefcVhejkw"
      }
    },
    {
      "cell_type": "code",
      "source": [
        "@tool(\"millennium_falcon\")\n",
        "def millennium_falcon():\n",
        "    \"\"\"\n",
        "    Simulação das funcionalidades da Millennium Falcon para proteger Luke.\n",
        "    Retorna uma string que indica que a Millennium Falcon está atacando o inimigo e protegendo a rota de Luke.\n",
        "    \"\"\"\n",
        "    return \"Millennium Falcon atacando o inimigo, protegendo a rota de Luke na X-Wing.\""
      ],
      "metadata": {
        "id": "dZfIt5ev3V7n"
      },
      "execution_count": null,
      "outputs": []
    },
    {
      "cell_type": "markdown",
      "source": [
        "# AGENTES"
      ],
      "metadata": {
        "id": "xxaUDtCbSHLP"
      }
    },
    {
      "cell_type": "markdown",
      "source": [
        "<img src=\"https://raw.githubusercontent.com/sandeco/crewai/main/images/7.png\" width=\"80%\"\n",
        "/>"
      ],
      "metadata": {
        "id": "9nQrI53xeov5"
      }
    },
    {
      "cell_type": "code",
      "source": [
        "leia = Agent(\n",
        "    role='Estrategista e Coordenadora',\n",
        "    goal='Coordenar o ataque à Estrela da Morte',\n",
        "    backstory=\"A princesa líder da Rebelião, essencial para a estratégia e comunicação.\",\n",
        "    tool=[],\n",
        "    memory=True,\n",
        "    verbose=True,\n",
        "    allow_delegation=True,\n",
        "    llm=gpt4o\n",
        ")"
      ],
      "metadata": {
        "id": "sFwJ0rZh3gAB"
      },
      "execution_count": null,
      "outputs": []
    },
    {
      "cell_type": "markdown",
      "source": [
        "<img src=\"https://raw.githubusercontent.com/sandeco/crewai/main/images/8.png\" width=\"80%\"\n",
        "/>"
      ],
      "metadata": {
        "id": "5J5_4TQteujr"
      }
    },
    {
      "cell_type": "code",
      "source": [
        "luke = Agent(\n",
        "    role='Piloto Heróico',\n",
        "    goal='Destruir a Estrela da Morte',\n",
        "    tools=[x_wing],\n",
        "    memory=True,\n",
        "    allow_delegation=False,\n",
        "    backstory=\"O jovem piloto destinado a ser um Jedi, liderando o ataque crítico.\",\n",
        "    llm=gpt4o\n",
        ")"
      ],
      "metadata": {
        "id": "5UHeB2q33b1X"
      },
      "execution_count": null,
      "outputs": []
    },
    {
      "cell_type": "markdown",
      "source": [
        "<img src=\"https://raw.githubusercontent.com/sandeco/crewai/main/images/9.png\" width=\"80%\"\n",
        "/>"
      ],
      "metadata": {
        "id": "v8A_S7KnexLC"
      }
    },
    {
      "cell_type": "code",
      "source": [
        "han = Agent(\n",
        "    role='Protetor Audaz',\n",
        "    goal='Proteger Luke durante a missão',\n",
        "    tools=[millennium_falcon],\n",
        "    memory=True,\n",
        "    allow_delegation=False,\n",
        "    backstory=\"O contrabandista ousado que se torna um herói, protegendo seu amigo.\",\n",
        "    llm=gpt4o\n",
        ")"
      ],
      "metadata": {
        "id": "oko3lLaR3eBp"
      },
      "execution_count": null,
      "outputs": []
    },
    {
      "cell_type": "markdown",
      "source": [
        "<img src=\"https://raw.githubusercontent.com/sandeco/crewai/main/images/12.png\" width=\"80%\"\n",
        "/>"
      ],
      "metadata": {
        "id": "KVLV6bQofe2g"
      }
    },
    {
      "cell_type": "code",
      "source": [
        "coordenar_ataque = Task(\n",
        "    description=f\"\"\"Leia deve coordenar a missão, mantendo comunicação\n",
        "                    e fornecendo suporte estratégico. Leia deve ordenar primeiro\n",
        "                    que Han defenda o Luke possibilitando um caminho seguro para Luke\n",
        "                    \"\"\",\n",
        "\n",
        "    expected_output=\"Estrela da Morte destruída, missão bem-sucedida.\",\n",
        "    agent=leia\n",
        ")"
      ],
      "metadata": {
        "id": "AGHBKfpK3rpp"
      },
      "execution_count": null,
      "outputs": []
    },
    {
      "cell_type": "markdown",
      "source": [
        "<img src=\"https://raw.githubusercontent.com/sandeco/crewai/main/images/13.png\" width=\"80%\"\n",
        "/>"
      ],
      "metadata": {
        "id": "V6a7QO6IflL1"
      }
    },
    {
      "cell_type": "code",
      "source": [
        "proteger_luke = Task(\n",
        "    description=\"Han deve atacar naves inimigas e proteger Luke de ser atacado durante a missão.\",\n",
        "    expected_output=\"Luke protegido, caminho livre para o ataque final.\",\n",
        "    agent=han\n",
        ")"
      ],
      "metadata": {
        "id": "FwJnI_Fz3p8_"
      },
      "execution_count": null,
      "outputs": []
    },
    {
      "cell_type": "markdown",
      "source": [
        "<img src=\"https://raw.githubusercontent.com/sandeco/crewai/main/images/11.png\" width=\"80%\"\n",
        "/>"
      ],
      "metadata": {
        "id": "e6q7o0ppfaF4"
      }
    },
    {
      "cell_type": "code",
      "source": [
        "destruir_estrela_morte = Task(\n",
        "    description=\"Luke deve pilotar sua X-Wing e atirar no ponto fraco da Estrela da Morte para destruí-la.\",\n",
        "    expected_output=\"Estrela da Morte destruída, missão bem-sucedida.\",\n",
        "    agent=luke\n",
        ")"
      ],
      "metadata": {
        "id": "OGahD0W23iK2"
      },
      "execution_count": null,
      "outputs": []
    },
    {
      "cell_type": "markdown",
      "source": [
        "<img src=\"https://raw.githubusercontent.com/sandeco/crewai/main/images/14.png\" width=\"80%\"\n",
        "/>"
      ],
      "metadata": {
        "id": "juj9qD2Jfpw9"
      }
    },
    {
      "cell_type": "code",
      "source": [
        "# Inicialização da equipe\n",
        "alianca_rebelde = Crew(\n",
        "    agents=[leia, han, luke],\n",
        "    tasks=[coordenar_ataque, proteger_luke, destruir_estrela_morte],\n",
        "    process=Process.hierarchical,\n",
        "    manager_llm=gpt4o,\n",
        "    memory=True\n",
        ")"
      ],
      "metadata": {
        "id": "UHTXxdVN39pf"
      },
      "execution_count": null,
      "outputs": []
    },
    {
      "cell_type": "markdown",
      "source": [
        "<img src=\"https://raw.githubusercontent.com/sandeco/crewai/main/images/15.png\" width=\"80%\"\n",
        "/>"
      ],
      "metadata": {
        "id": "gHQt1fMFfvan"
      }
    },
    {
      "cell_type": "code",
      "source": [
        "result = alianca_rebelde.kickoff()\n",
        "print(result)"
      ],
      "metadata": {
        "id": "Jc-1pjdQs1El"
      },
      "execution_count": null,
      "outputs": []
    },
    {
      "cell_type": "code",
      "source": [],
      "metadata": {
        "id": "iZA3cyz-4HXW"
      },
      "execution_count": null,
      "outputs": []
    },
    {
      "cell_type": "code",
      "source": [],
      "metadata": {
        "id": "Z85oJFpr4c-V"
      },
      "execution_count": null,
      "outputs": []
    }
  ]
}